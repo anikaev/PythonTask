{
 "cells": [
  {
   "cell_type": "markdown",
   "metadata": {
    "id": "s0ZPQF-3Cuyz"
   },
   "source": [
    "<h3>Дисклеймер</h3>\n",
    "\n",
    "Всё что написано в этом документе является лишь упрощённым объяснением синтаксических контрукций языка и написано таким образом, чтобы помочь вам выполнить домашнее задание. Точные и выверенные формулировки для ответов на зачёте\\экзамене рекомендуется брать из материалов лекций и официальной документации языка программирования.\n",
    "\n",
    "<h1>Декораторы</h1>\n",
    "\n",
    "Декоратор - паттерн проектирования, который позволяет добавлять некоторую функциональность к различным объектам без изменения самих этих объектов, применения наследования и т.д.\n",
    "В Питоне декоратор чаще всего является функцией, которая принимает в параметрах функцию (а иногда классом), создаёт внутри себя новую функцию и возвращает её.\n",
    "\n",
    "Помните, что функции в Питоне - это тоже объекты, как и другие объекты, их можно передать в другие функции, создавать внутри функций и возвращать из функций. По сути, декоратор, реализует некоторую функциональность, которую мы хотим добавить сразу к нескольким объектам, но чтобы не писать этот код несколько раз, мы пишем его единожды (в декораторе), а потом добавляем созданный декоратор в качестве \"обёртки\" над этими объектами (чаще всего функциями).\n",
    "\n",
    "Классический декоратор это некая функция X, которая должна принять на вход изначальную функцию A. Создать внутри функцию B, которая будет реализовывать необходимую функциональность и вызывать в процессе своей работы функцию A. Ну а в конце работы X вернёт B.\n",
    "Посмотрим как это работает, создадим две функции: tsum и tmul - одна складывает два числа, другая, соответственно, умножает."
   ]
  },
  {
   "cell_type": "code",
   "execution_count": 1,
   "metadata": {},
   "outputs": [
    {
     "name": "stdout",
     "output_type": "stream",
     "text": [
      "5\n",
      "6\n"
     ]
    }
   ],
   "source": [
    "def tsum(a, b):\n",
    "    return a + b\n",
    "\n",
    "\n",
    "def tmul(a, b):\n",
    "    return a * b\n",
    "\n",
    "\n",
    "print(tsum(3, 2))\n",
    "print(tmul(3, 2))"
   ]
  },
  {
   "cell_type": "markdown",
   "metadata": {
    "id": "a5h4gJ5vCuy7"
   },
   "source": [
    "А теперь представим, у нас в проекте очень много фукнций, они все разные и поступило требование к изменению работы программы \"Нужно добавить логирование вызовов всех функций\". Казалось бы, нам нужно пойти в каждую функцию и добавить туда код для логирования, но на самом деле нет, мы можем сделать простой логирующий декоратор:"
   ]
  },
  {
   "cell_type": "code",
   "execution_count": 2,
   "metadata": {
    "id": "9lHLtyzmCuy7"
   },
   "outputs": [],
   "source": [
    "def logger(fn):\n",
    "    def wrapper(*args, **kwargs):\n",
    "        print('Func: ' + str(fn))\n",
    "        print('Args: ' + str(args))\n",
    "        print('Fwargs: ' + str(kwargs))\n",
    "        return fn(*args, **kwargs)\n",
    "\n",
    "    return wrapper"
   ]
  },
  {
   "cell_type": "markdown",
   "metadata": {
    "id": "GRzevhpSCuy8"
   },
   "source": [
    "А теперь \"навесим\" данный декоратор на наши функции (я перепишу их определение ниже, т.к. это удобно с точки зрения чтения iPython Notebook, но вообще в коде достаточно к уже имеющимся определениям функции добавить декоратор)."
   ]
  },
  {
   "cell_type": "code",
   "execution_count": 3,
   "metadata": {},
   "outputs": [
    {
     "name": "stdout",
     "output_type": "stream",
     "text": [
      "Func: <function tsum at 0x103a78220>\n",
      "Args: (3, 2)\n",
      "Fwargs: {}\n",
      "5\n",
      "\n",
      "Func: <function tmul at 0x103a78040>\n",
      "Args: (3, 2)\n",
      "Fwargs: {}\n",
      "6\n"
     ]
    }
   ],
   "source": [
    "@logger\n",
    "def tsum(a, b):\n",
    "    return a + b\n",
    "\n",
    "\n",
    "@logger\n",
    "def tmul(a, b):\n",
    "    return a * b\n",
    "\n",
    "\n",
    "print(tsum(3, 2))\n",
    "print()\n",
    "print(tmul(3, 2))"
   ]
  },
  {
   "cell_type": "markdown",
   "metadata": {
    "id": "-E1oRjW4Cuy8"
   },
   "source": [
    "А теперь представьте, что поступило изменение к техническому заданию программы и все ответы функций нужно выводить в виде строк, начинающихся с \"result is:\".\n",
    "\n",
    "Напишите такой декоратор сами <b>(2 балла)</b>"
   ]
  },
  {
   "cell_type": "code",
   "execution_count": 4,
   "metadata": {
    "id": "ZT4afwseCuy9"
   },
   "outputs": [],
   "source": [
    "def result_modifyer(fn):\n",
    "    def wrapper(*args, **kwargs):\n",
    "        res = fn(*args, **kwargs)\n",
    "        return \"Result is: \" + str(res)\n",
    "\n",
    "    return wrapper"
   ]
  },
  {
   "cell_type": "markdown",
   "metadata": {
    "id": "VN0FPTtHCuy-"
   },
   "source": [
    "Теперь проверим, работает ли наше решение <b>(здесь и далее код тестов менять запрещено)</b>:"
   ]
  },
  {
   "cell_type": "code",
   "execution_count": 5,
   "metadata": {
    "id": "zBAfPRMfCuy-"
   },
   "outputs": [
    {
     "name": "stdout",
     "output_type": "stream",
     "text": [
      "Отлично, это работает! +2 балла тебе!\n"
     ]
    }
   ],
   "source": [
    "@result_modifyer\n",
    "def tsum(a, b):\n",
    "    return a + b\n",
    "\n",
    "\n",
    "@result_modifyer\n",
    "def tmul(a, b):\n",
    "    return a * b\n",
    "\n",
    "\n",
    "assert (tsum(2, 3) == \"Result is: 5\")\n",
    "assert (tmul(2, 3) == \"Result is: 6\")\n",
    "print('Отлично, это работает! +2 балла тебе!')"
   ]
  },
  {
   "cell_type": "markdown",
   "metadata": {
    "id": "qqZYcv7sCuy_"
   },
   "source": [
    "Проведём ещё один эксперимент, целью которого является узнать, в каком порядке вызовутся декораторы."
   ]
  },
  {
   "cell_type": "code",
   "execution_count": 6,
   "metadata": {},
   "outputs": [
    {
     "name": "stdout",
     "output_type": "stream",
     "text": [
      "A_1\n",
      "B_1\n",
      "B_2\n",
      "A_2\n",
      "5\n",
      "\n",
      "B_1\n",
      "A_1\n",
      "A_2\n",
      "B_2\n",
      "6\n"
     ]
    }
   ],
   "source": [
    "def A(fn):\n",
    "    def wrapper(*args, **kwargs):\n",
    "        print('A_1')\n",
    "        result = fn(*args, **kwargs)\n",
    "        print('A_2')\n",
    "        return result\n",
    "\n",
    "    return wrapper\n",
    "\n",
    "\n",
    "def B(fn):\n",
    "    def wrapper(*args, **kwargs):\n",
    "        print('B_1')\n",
    "        result = fn(*args, **kwargs)\n",
    "        print('B_2')\n",
    "        return result\n",
    "\n",
    "    return wrapper\n",
    "\n",
    "\n",
    "@A\n",
    "@B\n",
    "def tsum(a, b):\n",
    "    return a + b\n",
    "\n",
    "\n",
    "@B\n",
    "@A\n",
    "def tmul(a, b):\n",
    "    return a * b\n",
    "\n",
    "\n",
    "print(tsum(3, 2))\n",
    "print()\n",
    "print(tmul(3, 2))"
   ]
  },
  {
   "cell_type": "markdown",
   "metadata": {
    "id": "oH2Mjb-yCuzA"
   },
   "source": [
    "Как видим, что сначала вызывается \"внешний\" декоратор (более верхний в коде).\n",
    "\n",
    "Т.е. сначала вызовется A, из него вызовется B, а уже из него изначальная функция. \"Разворачивание\" результата пойдёт в обратном порядке."
   ]
  },
  {
   "cell_type": "markdown",
   "metadata": {
    "id": "sn_x8fr9CuzA"
   },
   "source": [
    "А теперь представим, что у нас в функции производятся достаточно сложные вычисления и данные функции часто вызываются с одинаковыми параметрами. Что же делать и как оптимизировать?<br>\n",
    "Написать кеширующий декоратор! Который будет запоминать предыдущие результаты функций и возвращать их из кеша, если функция вновь вызвана с теми же параметрами."
   ]
  },
  {
   "cell_type": "code",
   "metadata": {
    "id": "VnG9cqxoCuzA",
    "jupyter": {
     "is_executing": true
    }
   },
   "source": [
    "def cacher(fn):\n",
    "    cache = {}\n",
    "\n",
    "    def wrapper(*args, **kwargs):\n",
    "        str_params = str(args) + str(kwargs)\n",
    "\n",
    "        if str_params not in cache:\n",
    "            print(\"New calc!\")\n",
    "            cache[str_params] = fn(*args, **kwargs)\n",
    "\n",
    "        return cache[str_params]\n",
    "\n",
    "    return wrapper"
   ],
   "outputs": [],
   "execution_count": null
  },
  {
   "cell_type": "markdown",
   "metadata": {
    "id": "uYyXWYkdCuzB"
   },
   "source": [
    "Как мы видим наш декоратор проверяет, есть ли значение в кеше, если нет -> требуется вызвать функцию и дополнить кеш.\n",
    "\n",
    "Дальше мы просто возвращаем значение из кеша.\n",
    "Применён небольшой трюк с переводом параметров в строку, связано это с тем, что параметры, с которыми вызывается функция, содержатся в изменяемых объектах. Поэтому они не могут являться ключами в словаре (cache), конвертируем их в строки, строки неизменяемые и всё становится хорошо (почти всегда, но есть исключения ;) ).\n",
    "\n",
    "Посмотрим как это работает:"
   ]
  },
  {
   "cell_type": "code",
   "execution_count": 8,
   "metadata": {},
   "outputs": [
    {
     "name": "stdout",
     "output_type": "stream",
     "text": [
      "New calc!\n",
      "5\n",
      "5\n",
      "New calc!\n",
      "6\n"
     ]
    }
   ],
   "source": [
    "@cacher\n",
    "def tsum(a, b):\n",
    "    return a + b\n",
    "\n",
    "\n",
    "print(tsum(3, 2))\n",
    "print(tsum(3, 2))\n",
    "print(tsum(3, 3))"
   ]
  },
  {
   "cell_type": "markdown",
   "metadata": {
    "id": "Fvw3ocKdCuzD"
   },
   "source": [
    "Как вы уже поняли, логирующие декораторы незаменимы, когда требуется на время отладки вывести параметры функции. Вы просто добавляете строчку перед функцией и получаете все параметры, с которыми эту функцию вызывают во время работы программы.\n",
    "\n",
    "Также декораторы бывают неожиданно полезны, когда вы пишите, например, веб-сервера. Представьте, у вас есть набор веб-страниц, которые доступны только авторизованным пользователям. Можно в начале каждой функции формирования веб-страницы добавить код, проверяющий сессию пользователя. Но зачем, если это можно вынести в декоратор?\n",
    "\n",
    "Далее рассмотрим класс-декоратор (не путать с декоратором на класс). Вам могло показаться, что в качестве декоратора можно использовать только функцию. Это не так. В качестве декоратора может выступать любой объект, который можно «вызвать». Например, в качестве декоратора может выступать класс. Вот пример, показывающий, как можно конструировать потоки (threads) при помощи декораторов:\n",
    "(здесь и далее частично использованы примеры: https://habrahabr.ru/post/46306/)"
   ]
  },
  {
   "cell_type": "markdown",
   "metadata": {
    "id": "fbsvofzwCuzB"
   },
   "source": [
    "Как видим, значение действительно кешируется. Ура!\n",
    "\n",
    "Но есть проблема, такая проблема всегда есть с кешами. Размер нашего словаря будет расти пока не кончится память, это плохо, в таких случаях размер кеша как-либо ограничивают.\n",
    "\n",
    "Сделаем простой вариант, будем кешировать первые size запросов, а размер кеша size будем передавать как параметр декоратора. Да, так можно, декоратор же тоже функция. Почему бы не сделать декоратор с параметром? <b>(4 балла)</b>\n",
    "\n",
    "Чтобы понять, как должна работать функция в тех случах, когда произошёл \"промах\" мимо кеша - посмотрите тесты ;)\n",
    "\n",
    "Подсказка 1: в Питоне можно объявлять функцию внутри функции, намёк вам оставлен в имени возвращаемого значения.\n",
    "\n",
    "Подсказка 2: в этот раз мы ожидаем, что исходная функция начнёт возвращать строки, так просто было проще писать тесты."
   ]
  },
  {
   "cell_type": "code",
   "execution_count": 19,
   "metadata": {
    "id": "MQJL3cOpCuzB"
   },
   "outputs": [
    {
     "name": "stdout",
     "output_type": "stream",
     "text": [
      "Сразу +4 балла! Not bad!\n"
     ]
    }
   ],
   "source": [
    "def sized_cacher(size):\n",
    "    def decor(fn):\n",
    "        cashe = {}\n",
    "\n",
    "        def cacher(*args, **kwargs):\n",
    "            str_args = str(args) + str(kwargs)\n",
    "            if str_args not in cashe and (len(cashe) < size):\n",
    "                cashe[str_args] = str(fn(*args, **kwargs))\n",
    "                return cashe[str_args]\n",
    "            elif str_args in cashe:\n",
    "                return \"cached: \" + str(cashe[str_args])\n",
    "            else:\n",
    "                return str(fn(*args, **kwargs))\n",
    "\n",
    "        return cacher\n",
    "\n",
    "    return decor\n",
    "\n",
    "\n",
    "@sized_cacher(2)\n",
    "def tsum(a, b):\n",
    "    return a + b\n",
    "\n",
    "\n",
    "assert (tsum(3, 2) == '5')\n",
    "assert (tsum(3, 2) == 'cached: 5')\n",
    "assert (tsum(2, 2) == '4')\n",
    "assert (tsum(2, 2) == 'cached: 4')\n",
    "assert (tsum(4, 4) == '8')\n",
    "assert (tsum(4, 4) == '8')\n",
    "print('Сразу +4 балла! Not bad!')"
   ]
  },
  {
   "cell_type": "markdown",
   "metadata": {
    "id": "JT3ee7I0CuzC"
   },
   "source": [
    "Как мы видим, мы задали размер кеша равный 2, действительно, первые два результата закешировались и больше не пересчитывается, а остальные будут считаться каждый раз.\n",
    "\n",
    "Но наш кеш довольно странный, он хранит результаты первых size вызовов. На самом деле есть разные стратегии к построению кеша, например, можно кешировать результаты для самых часто вызываемых аргументов. Или можно кешировать некоторое количество последних вызовов. Какую именно стратегию выбвать для построения кеша необходимо решить глядя на задачу, которую вы решаете, например, если велика вероятность, что вызовы с одинаковыми параметрами будут производиться \"друг за другом\" будет хорошо кешировать сколько-нибудь последних вызовов, такая стратегий называется least recently used или LRU.\n",
    "\n",
    "В стандартной поставке Python уже есть реализация такого кеширующего декоратора:"
   ]
  },
  {
   "cell_type": "code",
   "execution_count": 20,
   "metadata": {},
   "outputs": [
    {
     "name": "stdout",
     "output_type": "stream",
     "text": [
      "func call! Not cache!\n",
      "5\n",
      "5\n",
      "func call! Not cache!\n",
      "4\n",
      "4\n",
      "func call! Not cache!\n",
      "5\n"
     ]
    }
   ],
   "source": [
    "from functools import lru_cache\n",
    "\n",
    "\n",
    "@lru_cache(maxsize=1)\n",
    "def tsum(a, b):\n",
    "    print(\"func call! Not cache!\")\n",
    "    return a + b\n",
    "\n",
    "\n",
    "print(tsum(3, 2))\n",
    "print(tsum(3, 2))\n",
    "print(tsum(2, 2))\n",
    "print(tsum(2, 2))\n",
    "print(tsum(3, 2))"
   ]
  },
  {
   "cell_type": "markdown",
   "metadata": {
    "id": "zv79n4EpCuzC"
   },
   "source": [
    "Видно, что если мы задали размер кеша 1, сначала у нас закешировался первый вызов, потом их вытеснили из кеша другие аргументы и т.д. Для ещё одного примера применения декораторов представим, что мы написали программу, но она работает долго. Мы хотим узнать, какая функция работает дольше всех и где именно у нас просадки по производительности. Нет ничего проще! Будем считать время выполнения функций: <b>(2 балла)</b>\n",
    "\n",
    "Чтобы понять в каком формате вывод функции от нас ждут можно снова посмотреть на тесты и в docstrings декоратора."
   ]
  },
  {
   "cell_type": "code",
   "execution_count": 21,
   "metadata": {
    "id": "f4ec0t5pCuzC"
   },
   "outputs": [
    {
     "name": "stdout",
     "output_type": "stream",
     "text": [
      "Успешно задекорировано! Ещё +2 балла!\n"
     ]
    }
   ],
   "source": [
    "from time import time, sleep\n",
    "\n",
    "\n",
    "def timer(fn):\n",
    "    '''Возвращает tuple, содержащий время выполнения функции и результат'''\n",
    "\n",
    "    def wrapper(*args, **kwargs):\n",
    "        start = time()\n",
    "        result = fn(*args, **kwargs)\n",
    "        end = time()\n",
    "        end_time = end - start\n",
    "        return (end_time, result)\n",
    "\n",
    "    return wrapper\n",
    "\n",
    "\n",
    "@timer\n",
    "def tsum(a, b):\n",
    "    sleep(1)\n",
    "    return a + b\n",
    "\n",
    "\n",
    "@timer\n",
    "def tmul(a, b):\n",
    "    sleep(2)\n",
    "    return a * b\n",
    "\n",
    "\n",
    "result_1 = tsum(2, 3)\n",
    "result_2 = tmul(2, 3)\n",
    "\n",
    "assert (result_1[0] > 1)\n",
    "assert (result_1[1] == 5)\n",
    "assert (result_2[0] > 2)\n",
    "assert (result_2[1] == 6)\n",
    "print('Успешно задекорировано! Ещё +2 балла!')"
   ]
  },
  {
   "cell_type": "markdown",
   "metadata": {
    "id": "Fvw3ocKdCuzD"
   },
   "source": [
    "Как вы уже поняли, логирующие декораторы незаменимы, когда требуется на время отладки вывести параметры функции. Вы просто добавляете строчку перед функцией и получаете все параметры, с которыми эту функцию вызывают во время работы программы.\n",
    "\n",
    "Также декораторы бывают неожиданно полезны, когда вы пишите, например, веб-сервера. Представьте, у вас есть набор веб-страниц, которые доступны только авторизованным пользователям. Можно в начале каждой функции формирования веб-страницы добавить код, проверяющий сессию пользователя. Но зачем, если это можно вынести в декоратор?\n",
    "\n",
    "Далее рассмотрим класс-декоратор (не путать с декоратором на класс). Вам могло показаться, что в качестве декоратора можно использовать только функцию. Это не так. В качестве декоратора может выступать любой объект, который можно «вызвать». Например, в качестве декоратора может выступать класс. Вот пример, показывающий, как можно конструировать потоки (threads) при помощи декораторов:\n",
    "(здесь и далее частично использованы примеры: https://habrahabr.ru/post/46306/)"
   ]
  },
  {
   "cell_type": "code",
   "execution_count": 22,
   "metadata": {},
   "outputs": [
    {
     "name": "stdout",
     "output_type": "stream",
     "text": [
      "63052472327946080256\n",
      "\n"
     ]
    }
   ],
   "source": [
    "import threading\n",
    "\n",
    "\n",
    "class Thread(threading.Thread):\n",
    "    def __init__(self, f):\n",
    "        threading.Thread.__init__(self)\n",
    "        self.run = f\n",
    "        self.start()\n",
    "\n",
    "\n",
    "@Thread\n",
    "def ttt():\n",
    "    print(threading.current_thread().ident)\n",
    "\n",
    "\n",
    "print(threading.current_thread().ident)"
   ]
  },
  {
   "cell_type": "markdown",
   "metadata": {},
   "source": [
    "Если выше вы видите одно непонятное длинное число - значит два потока \"подрались\" на вывод на экран и их id \"смешались\", если позапускать ячейку несколько раз, этот race condition (если не знаешь что это такое срочно гугли!) должен уйти и хотя бы раз ты увидишь два разных id, что позволит нам удостовериться, что это разные потоки."
   ]
  },
  {
   "cell_type": "markdown",
   "metadata": {
    "id": "hRv97jmpCuzD"
   },
   "source": [
    "Использование декораторов на методах классов ничем не отличается от использования декораторов на обычных функциях.\n",
    "\n",
    "Однако для классов есть предопределённые декораторы с именами staticmethod и classmethod. Они предназначены для задания статических методов и методов класса соответственно. Вот пример их использования:"
   ]
  },
  {
   "cell_type": "code",
   "execution_count": 23,
   "metadata": {},
   "outputs": [
    {
     "name": "stdout",
     "output_type": "stream",
     "text": [
      "Это метод, который вместо экземпляра объекта (self), получает экземпляр класса (cls)\n",
      "TestClass\n",
      "Это метод, который вместо экземпляра объекта (self), получает экземпляр класса (cls)\n",
      "TestClass2\n",
      "\n",
      "Это f2. Здесь у нас нет доступа к полям и методам объекта, self не передаётся\n",
      "Это более безопасно, чем обычный метод\n"
     ]
    }
   ],
   "source": [
    "class TestClass(object):\n",
    "    @classmethod\n",
    "    def f1(cls):\n",
    "        print('Это метод, который вместо экземпляра объекта (self), получает экземпляр класса (cls)')\n",
    "        print(cls.__name__)\n",
    "\n",
    "    @staticmethod\n",
    "    def f2():\n",
    "        print('Это f2. Здесь у нас нет доступа к полям и методам объекта, self не передаётся')\n",
    "        print('Это более безопасно, чем обычный метод')\n",
    "\n",
    "\n",
    "class TestClass2(TestClass):\n",
    "    pass\n",
    "\n",
    "\n",
    "TestClass.f1()  # печатает TestClass\n",
    "TestClass2.f1()  # печатает TestClass2\n",
    "\n",
    "print()\n",
    "TestClass2.f2()"
   ]
  },
  {
   "cell_type": "markdown",
   "metadata": {
    "id": "36AeoPcoCuzE"
   },
   "source": [
    "А теперь посмотрим как выглядит декоратор на класс, не путать с классом-декоратором (он декорирует класс, а класс-декоратор может декорировать функцию, см. пример с потоками выше):"
   ]
  },
  {
   "cell_type": "code",
   "execution_count": 24,
   "metadata": {},
   "outputs": [
    {
     "name": "stdout",
     "output_type": "stream",
     "text": [
      "First 1\n",
      "Second 2\n"
     ]
    }
   ],
   "source": [
    "def id_decorator(cls):\n",
    "    old_init = cls.__init__\n",
    "\n",
    "    def new_init(self, id, *args, **kwargs):\n",
    "        # можем навесить на декорируемый класс свои поля и методы, сделать универсальный интерфейс        \n",
    "        def get_id():\n",
    "            return self._id\n",
    "\n",
    "        self._id = id\n",
    "        self.get_id = get_id\n",
    "        old_init(self, *args, **kwargs)\n",
    "\n",
    "    # наш декоратор на класс умеет подменять оригинальную функцию init у класса, который он декорирует :)\n",
    "    cls.__init__ = new_init\n",
    "    return cls\n",
    "\n",
    "\n",
    "@id_decorator\n",
    "class TestClass:\n",
    "    def __init__(self, value):\n",
    "        self.value = value\n",
    "\n",
    "    def get_value(self):\n",
    "        return self.value\n",
    "\n",
    "\n",
    "object1 = TestClass(1, \"First\")\n",
    "object2 = TestClass(2, \"Second\")\n",
    "print(object1.get_value(), object1.get_id())\n",
    "print(object2.get_value(), object2.get_id())"
   ]
  },
  {
   "cell_type": "markdown",
   "metadata": {
    "id": "UM5W2KRpCuzG"
   },
   "source": [
    "Ну а теперь научимся писать синглтоны на Python проще, чем мы это делали раньше.\n",
    "\n",
    "Каждый специалист по компьютерным наукам должен быть знаком с этим паттерном: <a href=\"https://tinyurl.com/uwyz4aww\">ПРОЧТИ МЕНЯ!!!</a>"
   ]
  },
  {
   "cell_type": "code",
   "execution_count": 25,
   "metadata": {},
   "outputs": [
    {
     "name": "stdout",
     "output_type": "stream",
     "text": [
      "4356306608\n",
      "4356306608\n"
     ]
    }
   ],
   "source": [
    "def singleton(cls):\n",
    "    instances = {}\n",
    "\n",
    "    def getinstance(*args, **kwargs):\n",
    "        if cls not in instances:\n",
    "            instances[cls] = cls(*args, **kwargs)\n",
    "        return instances[cls]\n",
    "\n",
    "    return getinstance\n",
    "\n",
    "\n",
    "@singleton\n",
    "class Foo(object):\n",
    "    def bar(self):\n",
    "        pass\n",
    "\n",
    "\n",
    "print(id(Foo()))\n",
    "print(id(Foo()))"
   ]
  },
  {
   "cell_type": "markdown",
   "metadata": {
    "id": "EqBe4NPGCuzH"
   },
   "source": [
    "Как видим, Id объектов совпадают, значит, созданные объекты совпадают (являются одним и тем же объектом).\n",
    "\n",
    "Что делать если у нашей функции есть различные метаданные (например, docstrings) и мы хотим их сохранить, пропустив функцию через декоратор? Это возможно:"
   ]
  },
  {
   "cell_type": "code",
   "execution_count": 26,
   "metadata": {},
   "outputs": [
    {
     "name": "stdout",
     "output_type": "stream",
     "text": [
      "None\n",
      "function(a, b) -> list\n"
     ]
    }
   ],
   "source": [
    "from functools import wraps\n",
    "\n",
    "\n",
    "def bad_decorator(fn):\n",
    "    def wrapper(*args, **kwargs):\n",
    "        return fn(*args, **kwargs)\n",
    "\n",
    "    return wrapper\n",
    "\n",
    "\n",
    "def good_decorator(fn):\n",
    "    @wraps(fn)\n",
    "    def wrapper(*args, **kwargs):\n",
    "        return fn(*args, **kwargs)\n",
    "\n",
    "    return wrapper\n",
    "\n",
    "\n",
    "@bad_decorator\n",
    "def test_func(a, b):\n",
    "    \"\"\"function(a, b) -> list\"\"\"\n",
    "    return [a, b]\n",
    "\n",
    "\n",
    "# также можно использовать help(test_func) для просмотра docstrings ;)\n",
    "print(test_func.__doc__)\n",
    "\n",
    "\n",
    "@good_decorator\n",
    "def test_func(a, b):\n",
    "    \"\"\"function(a, b) -> list\"\"\"\n",
    "    return [a, b]\n",
    "\n",
    "\n",
    "print(test_func.__doc__)"
   ]
  },
  {
   "cell_type": "markdown",
   "metadata": {
    "id": "JbSvQsTFCuzH"
   },
   "source": [
    "Как видим, functools.wraps помог решить проблему потери метаданных функции, в частности, потерю docstrings.\n",
    "\n",
    "Теперь рассмотрим ещё один встроенный декоратор @property:"
   ]
  },
  {
   "cell_type": "code",
   "execution_count": 17,
   "metadata": {},
   "outputs": [
    {
     "name": "stdout",
     "output_type": "stream",
     "text": [
      "3\n"
     ]
    }
   ],
   "source": [
    "class Test:\n",
    "    @property\n",
    "    def x(self):\n",
    "        \"\"\"I'm the property.\"\"\"\n",
    "        return 1 * 3\n",
    "\n",
    "\n",
    "test = Test()\n",
    "print(test.x)"
   ]
  },
  {
   "cell_type": "markdown",
   "metadata": {
    "id": "TmV7ScgvCuzI"
   },
   "source": [
    "Мы привыкли, что если у нас класс генерирует какое-то значение - нужен метод, ведь нужен код, который может генерировать это значение.\n",
    "\n",
    "Оказывается, можно представлять это значение (генерируемое динамически) для внешнего мира как поле объекта при помощи декоратора @property."
   ]
  },
  {
   "cell_type": "markdown",
   "metadata": {
    "id": "wXoxwlxFCuzI"
   },
   "source": [
    "Ух ты, ты правда всё это прочитал? Тогда доделай немного код ниже и получи за это ещё +2 балла :)"
   ]
  },
  {
   "cell_type": "code",
   "execution_count": 27,
   "metadata": {},
   "outputs": [
    {
     "name": "stdout",
     "output_type": "stream",
     "text": [
      "Я молодец! Я заслужил +2 балла!\n",
      "Ура, на сегодня всё! Спасибо за внимание!\n"
     ]
    }
   ],
   "source": [
    "def get_gift(fn):\n",
    "    @wraps(fn)\n",
    "    def wrapper(*args, **kwargs):\n",
    "        print('Я молодец! Я заслужил +2 балла!')\n",
    "        return fn(*args, **kwargs)\n",
    "\n",
    "    return wrapper\n",
    "\n",
    "\n",
    "@get_gift\n",
    "def last_func():\n",
    "    print('Ура, на сегодня всё! Спасибо за внимание!')\n",
    "\n",
    "\n",
    "last_func()"
   ]
  },
  {
   "cell_type": "markdown",
   "metadata": {
    "id": "dg_UitvNCuzI"
   },
   "source": [
    "Версия документа 1.3\n",
    "\n",
    "© Вячеслав Копейцев, 2024\n",
    "\n",
    "P.S. Автор не претендует на некую \"экспертизу\" в языке Python, код и текст могут содержать ошибки."
   ]
  },
  {
   "cell_type": "code",
   "execution_count": null,
   "metadata": {},
   "outputs": [],
   "source": []
  },
  {
   "cell_type": "code",
   "execution_count": null,
   "metadata": {},
   "outputs": [],
   "source": []
  },
  {
   "cell_type": "code",
   "execution_count": null,
   "metadata": {},
   "outputs": [],
   "source": []
  }
 ],
 "metadata": {
  "colab": {
   "collapsed_sections": [],
   "name": "Decorators_hw.ipynb",
   "provenance": []
  },
  "kernelspec": {
   "display_name": "Python 3 (ipykernel)",
   "language": "python",
   "name": "python3"
  },
  "language_info": {
   "codemirror_mode": {
    "name": "ipython",
    "version": 3
   },
   "file_extension": ".py",
   "mimetype": "text/x-python",
   "name": "python",
   "nbconvert_exporter": "python",
   "pygments_lexer": "ipython3",
   "version": "3.12.7"
  }
 },
 "nbformat": 4,
 "nbformat_minor": 4
}
